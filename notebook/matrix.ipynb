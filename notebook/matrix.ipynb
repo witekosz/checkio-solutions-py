{
 "metadata": {
  "language_info": {
   "codemirror_mode": {
    "name": "ipython",
    "version": 3
   },
   "file_extension": ".py",
   "mimetype": "text/x-python",
   "name": "python",
   "nbconvert_exporter": "python",
   "pygments_lexer": "ipython3",
   "version": "3.9.1-final"
  },
  "orig_nbformat": 2,
  "kernelspec": {
   "name": "python3",
   "display_name": "Python 3",
   "language": "python"
  }
 },
 "nbformat": 4,
 "nbformat_minor": 2,
 "cells": [
  {
   "cell_type": "code",
   "execution_count": 8,
   "metadata": {},
   "outputs": [],
   "source": [
    "simple_matrix = [\n",
    "    [0, 1],\n",
    "    [0, 0]\n",
    "]"
   ]
  },
  {
   "cell_type": "code",
   "execution_count": 20,
   "metadata": {},
   "outputs": [],
   "source": [
    "def process_to_graph(matrix: list, required_value):\n",
    "    print(matrix)\n",
    "    matrix_len = len(matrix)\n",
    "    positions = [(1, 0), (-1, 0), (0, 1), (0, -1)]\n",
    "    adj_list = dict()\n",
    "\n",
    "    for i, e in enumerate(matrix):\n",
    "        for i2, value in enumerate(e):\n",
    "            print(i, i2)\n",
    "            if value == required_value:\n",
    "                print((i, i2) + positions[0])\n",
    "                adj_list[(i, i2)] = []\n",
    "\n",
    "    print(adj_list)\n",
    "\n",
    "\n"
   ]
  },
  {
   "cell_type": "code",
   "execution_count": 21,
   "metadata": {},
   "outputs": [
    {
     "output_type": "stream",
     "name": "stdout",
     "text": [
      "[[0, 1], [0, 0]]\n0 0\n(0, 0, 1, 0)\n0 1\n1 0\n(1, 0, 1, 0)\n1 1\n(1, 1, 1, 0)\n{(0, 0): [], (1, 0): [], (1, 1): []}\n"
     ]
    }
   ],
   "source": [
    "process_to_graph(simple_matrix, 0)"
   ]
  },
  {
   "cell_type": "code",
   "execution_count": 1,
   "metadata": {},
   "outputs": [],
   "source": [
    "def can_pass(matrix: tuple, first: tuple, second: tuple):\n",
    "    x_val = matrix[first[1]][first[0]]\n",
    "    y_val = matrix[second[1]][second[0]]\n",
    "    print(x_val, y_val)\n",
    "    if x_val != y_val:\n",
    "        return False\n",
    "\n",
    "    val = x_val\n",
    "    yx = first[0], first[1]\n",
    "    new_coord = [yx]\n",
    "    while new_coord:\n",
    "        y, x = new_coord.pop()\n",
    "        matrix[y][x] = \"x\"\n",
    "        print((y, x))\n",
    "        if (y, x) == second:\n",
    "            return True\n",
    "\n",
    "        if matrix[y][x+1] == val:\n",
    "            print(\"E\", matrix[y][x+1])\n",
    "            matrix[y][x+1] = \"E\"\n",
    "            new_coord.append((y, x+1))\n",
    "        elif matrix[y][x-1] == val:\n",
    "            print(\"W\", matrix[y][x-1])\n",
    "            matrix[y][x-1] = \"W\"\n",
    "            new_coord.append((y, x-1))\n",
    "        elif matrix[y+1][x] == val:\n",
    "            print(\"S\", matrix[y+1][x])\n",
    "            matrix[y+1][x] = \"S\"\n",
    "            new_coord.append((y+1, x))\n",
    "        elif matrix[y-1][x] == val:\n",
    "            print(\"N\", matrix[y-1][x])\n",
    "            matrix[y-1][x] = \"N\"\n",
    "            new_coord.append((y-1, x))\n",
    "\n",
    "        print(\"new_coord\", new_coord)\n",
    "        for m in matrix:\n",
    "            print(m)\n",
    "        print(\"-\"*18)\n",
    "\n",
    "    print(first)\n",
    "    print(second)\n",
    "\n",
    "    return False"
   ]
  },
  {
   "cell_type": "code",
   "execution_count": 2,
   "metadata": {},
   "outputs": [
    {
     "output_type": "stream",
     "name": "stdout",
     "text": [
      "0 0\n(3, 2)\nN 0\nnew_coord [(2, 2)]\n[0, 0, 0, 0, 0, 0]\n[0, 2, 2, 2, 3, 2]\n[0, 2, 'N', 0, 0, 2]\n[0, 2, 'x', 2, 0, 2]\n[0, 2, 2, 2, 0, 2]\n[0, 0, 0, 0, 0, 2]\n[2, 2, 2, 2, 2, 2]\n------------------\n(2, 2)\nE 0\nnew_coord [(2, 3)]\n[0, 0, 0, 0, 0, 0]\n[0, 2, 2, 2, 3, 2]\n[0, 2, 'x', 'E', 0, 2]\n[0, 2, 'x', 2, 0, 2]\n[0, 2, 2, 2, 0, 2]\n[0, 0, 0, 0, 0, 2]\n[2, 2, 2, 2, 2, 2]\n------------------\n(2, 3)\nE 0\nnew_coord [(2, 4)]\n[0, 0, 0, 0, 0, 0]\n[0, 2, 2, 2, 3, 2]\n[0, 2, 'x', 'x', 'E', 2]\n[0, 2, 'x', 2, 0, 2]\n[0, 2, 2, 2, 0, 2]\n[0, 0, 0, 0, 0, 2]\n[2, 2, 2, 2, 2, 2]\n------------------\n(2, 4)\nS 0\nnew_coord [(3, 4)]\n[0, 0, 0, 0, 0, 0]\n[0, 2, 2, 2, 3, 2]\n[0, 2, 'x', 'x', 'x', 2]\n[0, 2, 'x', 2, 'S', 2]\n[0, 2, 2, 2, 0, 2]\n[0, 0, 0, 0, 0, 2]\n[2, 2, 2, 2, 2, 2]\n------------------\n(3, 4)\nS 0\nnew_coord [(4, 4)]\n[0, 0, 0, 0, 0, 0]\n[0, 2, 2, 2, 3, 2]\n[0, 2, 'x', 'x', 'x', 2]\n[0, 2, 'x', 2, 'x', 2]\n[0, 2, 2, 2, 'S', 2]\n[0, 0, 0, 0, 0, 2]\n[2, 2, 2, 2, 2, 2]\n------------------\n(4, 4)\nS 0\nnew_coord [(5, 4)]\n[0, 0, 0, 0, 0, 0]\n[0, 2, 2, 2, 3, 2]\n[0, 2, 'x', 'x', 'x', 2]\n[0, 2, 'x', 2, 'x', 2]\n[0, 2, 2, 2, 'x', 2]\n[0, 0, 0, 0, 'S', 2]\n[2, 2, 2, 2, 2, 2]\n------------------\n(5, 4)\nW 0\nnew_coord [(5, 3)]\n[0, 0, 0, 0, 0, 0]\n[0, 2, 2, 2, 3, 2]\n[0, 2, 'x', 'x', 'x', 2]\n[0, 2, 'x', 2, 'x', 2]\n[0, 2, 2, 2, 'x', 2]\n[0, 0, 0, 'W', 'x', 2]\n[2, 2, 2, 2, 2, 2]\n------------------\n(5, 3)\nW 0\nnew_coord [(5, 2)]\n[0, 0, 0, 0, 0, 0]\n[0, 2, 2, 2, 3, 2]\n[0, 2, 'x', 'x', 'x', 2]\n[0, 2, 'x', 2, 'x', 2]\n[0, 2, 2, 2, 'x', 2]\n[0, 0, 'W', 'x', 'x', 2]\n[2, 2, 2, 2, 2, 2]\n------------------\n(5, 2)\nW 0\nnew_coord [(5, 1)]\n[0, 0, 0, 0, 0, 0]\n[0, 2, 2, 2, 3, 2]\n[0, 2, 'x', 'x', 'x', 2]\n[0, 2, 'x', 2, 'x', 2]\n[0, 2, 2, 2, 'x', 2]\n[0, 'W', 'x', 'x', 'x', 2]\n[2, 2, 2, 2, 2, 2]\n------------------\n(5, 1)\nW 0\nnew_coord [(5, 0)]\n[0, 0, 0, 0, 0, 0]\n[0, 2, 2, 2, 3, 2]\n[0, 2, 'x', 'x', 'x', 2]\n[0, 2, 'x', 2, 'x', 2]\n[0, 2, 2, 2, 'x', 2]\n['W', 'x', 'x', 'x', 'x', 2]\n[2, 2, 2, 2, 2, 2]\n------------------\n(5, 0)\nN 0\nnew_coord [(4, 0)]\n[0, 0, 0, 0, 0, 0]\n[0, 2, 2, 2, 3, 2]\n[0, 2, 'x', 'x', 'x', 2]\n[0, 2, 'x', 2, 'x', 2]\n['N', 2, 2, 2, 'x', 2]\n['x', 'x', 'x', 'x', 'x', 2]\n[2, 2, 2, 2, 2, 2]\n------------------\n(4, 0)\nN 0\nnew_coord [(3, 0)]\n[0, 0, 0, 0, 0, 0]\n[0, 2, 2, 2, 3, 2]\n[0, 2, 'x', 'x', 'x', 2]\n['N', 2, 'x', 2, 'x', 2]\n['x', 2, 2, 2, 'x', 2]\n['x', 'x', 'x', 'x', 'x', 2]\n[2, 2, 2, 2, 2, 2]\n------------------\n(3, 0)\nN 0\nnew_coord [(2, 0)]\n[0, 0, 0, 0, 0, 0]\n[0, 2, 2, 2, 3, 2]\n['N', 2, 'x', 'x', 'x', 2]\n['x', 2, 'x', 2, 'x', 2]\n['x', 2, 2, 2, 'x', 2]\n['x', 'x', 'x', 'x', 'x', 2]\n[2, 2, 2, 2, 2, 2]\n------------------\n(2, 0)\nN 0\nnew_coord [(1, 0)]\n[0, 0, 0, 0, 0, 0]\n['N', 2, 2, 2, 3, 2]\n['x', 2, 'x', 'x', 'x', 2]\n['x', 2, 'x', 2, 'x', 2]\n['x', 2, 2, 2, 'x', 2]\n['x', 'x', 'x', 'x', 'x', 2]\n[2, 2, 2, 2, 2, 2]\n------------------\n(1, 0)\nN 0\nnew_coord [(0, 0)]\n['N', 0, 0, 0, 0, 0]\n['x', 2, 2, 2, 3, 2]\n['x', 2, 'x', 'x', 'x', 2]\n['x', 2, 'x', 2, 'x', 2]\n['x', 2, 2, 2, 'x', 2]\n['x', 'x', 'x', 'x', 'x', 2]\n[2, 2, 2, 2, 2, 2]\n------------------\n(0, 0)\nE 0\nnew_coord [(0, 1)]\n['x', 'E', 0, 0, 0, 0]\n['x', 2, 2, 2, 3, 2]\n['x', 2, 'x', 'x', 'x', 2]\n['x', 2, 'x', 2, 'x', 2]\n['x', 2, 2, 2, 'x', 2]\n['x', 'x', 'x', 'x', 'x', 2]\n[2, 2, 2, 2, 2, 2]\n------------------\n(0, 1)\nE 0\nnew_coord [(0, 2)]\n['x', 'x', 'E', 0, 0, 0]\n['x', 2, 2, 2, 3, 2]\n['x', 2, 'x', 'x', 'x', 2]\n['x', 2, 'x', 2, 'x', 2]\n['x', 2, 2, 2, 'x', 2]\n['x', 'x', 'x', 'x', 'x', 2]\n[2, 2, 2, 2, 2, 2]\n------------------\n(0, 2)\nE 0\nnew_coord [(0, 3)]\n['x', 'x', 'x', 'E', 0, 0]\n['x', 2, 2, 2, 3, 2]\n['x', 2, 'x', 'x', 'x', 2]\n['x', 2, 'x', 2, 'x', 2]\n['x', 2, 2, 2, 'x', 2]\n['x', 'x', 'x', 'x', 'x', 2]\n[2, 2, 2, 2, 2, 2]\n------------------\n(0, 3)\nE 0\nnew_coord [(0, 4)]\n['x', 'x', 'x', 'x', 'E', 0]\n['x', 2, 2, 2, 3, 2]\n['x', 2, 'x', 'x', 'x', 2]\n['x', 2, 'x', 2, 'x', 2]\n['x', 2, 2, 2, 'x', 2]\n['x', 'x', 'x', 'x', 'x', 2]\n[2, 2, 2, 2, 2, 2]\n------------------\n(0, 4)\nE 0\nnew_coord [(0, 5)]\n['x', 'x', 'x', 'x', 'x', 'E']\n['x', 2, 2, 2, 3, 2]\n['x', 2, 'x', 'x', 'x', 2]\n['x', 2, 'x', 2, 'x', 2]\n['x', 2, 2, 2, 'x', 2]\n['x', 'x', 'x', 'x', 'x', 2]\n[2, 2, 2, 2, 2, 2]\n------------------\n(0, 5)\n"
     ]
    },
    {
     "output_type": "execute_result",
     "data": {
      "text/plain": [
       "True"
      ]
     },
     "metadata": {},
     "execution_count": 2
    }
   ],
   "source": [
    "can_pass([\n",
    "    [0, 0, 0, 0, 0, 0],\n",
    "    [0, 2, 2, 2, 3, 2],\n",
    "    [0, 2, 0, 0, 0, 2],\n",
    "    [0, 2, 0, 2, 0, 2],\n",
    "    [0, 2, 2, 2, 0, 2],\n",
    "    [0, 0, 0, 0, 0, 2],\n",
    "    [2, 2, 2, 2, 2, 2],\n",
    "],\n",
    "    (3, 2),\n",
    "    (0, 5)\n",
    ")"
   ]
  },
  {
   "cell_type": "code",
   "execution_count": 3,
   "metadata": {},
   "outputs": [
    {
     "output_type": "error",
     "ename": "IndexError",
     "evalue": "tuple index out of range",
     "traceback": [
      "\u001b[0;31m---------------------------------------------------------------------------\u001b[0m",
      "\u001b[0;31mIndexError\u001b[0m                                Traceback (most recent call last)",
      "\u001b[0;32m<ipython-input-3-fdb8969bdb68>\u001b[0m in \u001b[0;36m<module>\u001b[0;34m\u001b[0m\n\u001b[0;32m----> 1\u001b[0;31m can_pass(\n\u001b[0m\u001b[1;32m      2\u001b[0m     (\n\u001b[1;32m      3\u001b[0m         \u001b[0;34m(\u001b[0m\u001b[0;36m0\u001b[0m\u001b[0;34m,\u001b[0m \u001b[0;36m0\u001b[0m\u001b[0;34m,\u001b[0m \u001b[0;36m0\u001b[0m\u001b[0;34m,\u001b[0m \u001b[0;36m0\u001b[0m\u001b[0;34m,\u001b[0m \u001b[0;36m0\u001b[0m\u001b[0;34m,\u001b[0m \u001b[0;36m0\u001b[0m\u001b[0;34m)\u001b[0m\u001b[0;34m,\u001b[0m\u001b[0;34m\u001b[0m\u001b[0;34m\u001b[0m\u001b[0m\n\u001b[1;32m      4\u001b[0m         \u001b[0;34m(\u001b[0m\u001b[0;36m0\u001b[0m\u001b[0;34m,\u001b[0m \u001b[0;36m2\u001b[0m\u001b[0;34m,\u001b[0m \u001b[0;36m2\u001b[0m\u001b[0;34m,\u001b[0m \u001b[0;36m2\u001b[0m\u001b[0;34m,\u001b[0m \u001b[0;36m3\u001b[0m\u001b[0;34m,\u001b[0m \u001b[0;36m2\u001b[0m\u001b[0;34m)\u001b[0m\u001b[0;34m,\u001b[0m\u001b[0;34m\u001b[0m\u001b[0;34m\u001b[0m\u001b[0m\n\u001b[1;32m      5\u001b[0m         \u001b[0;34m(\u001b[0m\u001b[0;36m0\u001b[0m\u001b[0;34m,\u001b[0m \u001b[0;36m2\u001b[0m\u001b[0;34m,\u001b[0m \u001b[0;36m0\u001b[0m\u001b[0;34m,\u001b[0m \u001b[0;36m0\u001b[0m\u001b[0;34m,\u001b[0m \u001b[0;36m0\u001b[0m\u001b[0;34m,\u001b[0m \u001b[0;36m2\u001b[0m\u001b[0;34m)\u001b[0m\u001b[0;34m,\u001b[0m\u001b[0;34m\u001b[0m\u001b[0;34m\u001b[0m\u001b[0m\n",
      "\u001b[0;32m<ipython-input-1-219953c49f42>\u001b[0m in \u001b[0;36mcan_pass\u001b[0;34m(matrix, first, second)\u001b[0m\n\u001b[1;32m      1\u001b[0m \u001b[0;32mdef\u001b[0m \u001b[0mcan_pass\u001b[0m\u001b[0;34m(\u001b[0m\u001b[0mmatrix\u001b[0m\u001b[0;34m:\u001b[0m \u001b[0mtuple\u001b[0m\u001b[0;34m,\u001b[0m \u001b[0mfirst\u001b[0m\u001b[0;34m:\u001b[0m \u001b[0mtuple\u001b[0m\u001b[0;34m,\u001b[0m \u001b[0msecond\u001b[0m\u001b[0;34m:\u001b[0m \u001b[0mtuple\u001b[0m\u001b[0;34m)\u001b[0m\u001b[0;34m:\u001b[0m\u001b[0;34m\u001b[0m\u001b[0;34m\u001b[0m\u001b[0m\n\u001b[1;32m      2\u001b[0m     \u001b[0mx_val\u001b[0m \u001b[0;34m=\u001b[0m \u001b[0mmatrix\u001b[0m\u001b[0;34m[\u001b[0m\u001b[0mfirst\u001b[0m\u001b[0;34m[\u001b[0m\u001b[0;36m1\u001b[0m\u001b[0;34m]\u001b[0m\u001b[0;34m]\u001b[0m\u001b[0;34m[\u001b[0m\u001b[0mfirst\u001b[0m\u001b[0;34m[\u001b[0m\u001b[0;36m0\u001b[0m\u001b[0;34m]\u001b[0m\u001b[0;34m]\u001b[0m\u001b[0;34m\u001b[0m\u001b[0;34m\u001b[0m\u001b[0m\n\u001b[0;32m----> 3\u001b[0;31m     \u001b[0my_val\u001b[0m \u001b[0;34m=\u001b[0m \u001b[0mmatrix\u001b[0m\u001b[0;34m[\u001b[0m\u001b[0msecond\u001b[0m\u001b[0;34m[\u001b[0m\u001b[0;36m1\u001b[0m\u001b[0;34m]\u001b[0m\u001b[0;34m]\u001b[0m\u001b[0;34m[\u001b[0m\u001b[0msecond\u001b[0m\u001b[0;34m[\u001b[0m\u001b[0;36m0\u001b[0m\u001b[0;34m]\u001b[0m\u001b[0;34m]\u001b[0m\u001b[0;34m\u001b[0m\u001b[0;34m\u001b[0m\u001b[0m\n\u001b[0m\u001b[1;32m      4\u001b[0m     \u001b[0mprint\u001b[0m\u001b[0;34m(\u001b[0m\u001b[0mx_val\u001b[0m\u001b[0;34m,\u001b[0m \u001b[0my_val\u001b[0m\u001b[0;34m)\u001b[0m\u001b[0;34m\u001b[0m\u001b[0;34m\u001b[0m\u001b[0m\n\u001b[1;32m      5\u001b[0m     \u001b[0;32mif\u001b[0m \u001b[0mx_val\u001b[0m \u001b[0;34m!=\u001b[0m \u001b[0my_val\u001b[0m\u001b[0;34m:\u001b[0m\u001b[0;34m\u001b[0m\u001b[0;34m\u001b[0m\u001b[0m\n",
      "\u001b[0;31mIndexError\u001b[0m: tuple index out of range"
     ]
    }
   ],
   "source": [
    "can_pass(\n",
    "    (\n",
    "        (0, 0, 0, 0, 0, 0),\n",
    "        (0, 2, 2, 2, 3, 2),\n",
    "        (0, 2, 0, 0, 0, 2),\n",
    "        (0, 2, 0, 2, 0, 2),\n",
    "        (0, 2, 2, 2, 0, 2),\n",
    "        (0, 0, 0, 0, 0, 2),\n",
    "        (2, 2, 2, 2, 2, 2),\n",
    "    ),\n",
    "    (3, 3), (6, 0)\n",
    ")"
   ]
  },
  {
   "cell_type": "code",
   "execution_count": null,
   "metadata": {},
   "outputs": [],
   "source": []
  }
 ]
}