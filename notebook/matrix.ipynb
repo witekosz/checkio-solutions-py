{
 "metadata": {
  "language_info": {
   "codemirror_mode": {
    "name": "ipython",
    "version": 3
   },
   "file_extension": ".py",
   "mimetype": "text/x-python",
   "name": "python",
   "nbconvert_exporter": "python",
   "pygments_lexer": "ipython3",
   "version": "3.9.1-final"
  },
  "orig_nbformat": 2,
  "kernelspec": {
   "name": "python3",
   "display_name": "Python 3",
   "language": "python"
  }
 },
 "nbformat": 4,
 "nbformat_minor": 2,
 "cells": [
  {
   "cell_type": "code",
   "execution_count": 114,
   "metadata": {},
   "outputs": [],
   "source": [
    "def can_pass(matrix: tuple, first: tuple, second: tuple):\n",
    "    x_val = matrix[first[1]][first[0]]\n",
    "    y_val = matrix[second[1]][second[0]]\n",
    "    print(x_val, y_val)\n",
    "    if x_val != y_val:\n",
    "        return False\n",
    "\n",
    "    val = x_val\n",
    "    yx = first[0], first[1]\n",
    "    new_coord = [yx]\n",
    "    while new_coord:\n",
    "        y, x = new_coord.pop()\n",
    "        matrix[y][x] = \"x\"\n",
    "        print((y, x))\n",
    "        if (y, x) == second:\n",
    "            return True\n",
    "\n",
    "        if matrix[y][x+1] == val:\n",
    "            print(\"E\", matrix[y][x+1])\n",
    "            matrix[y][x+1] = \"E\"\n",
    "            new_coord.append((y, x+1))\n",
    "        elif matrix[y][x-1] == val:\n",
    "            print(\"W\", matrix[y][x-1])\n",
    "            matrix[y][x-1] = \"W\"\n",
    "            new_coord.append((y, x-1))\n",
    "        elif matrix[y+1][x] == val:\n",
    "            print(\"S\", matrix[y+1][x])\n",
    "            matrix[y+1][x] = \"S\"\n",
    "            new_coord.append((y+1, x))\n",
    "        elif matrix[y-1][x] == val:\n",
    "            print(\"N\", matrix[y-1][x])\n",
    "            matrix[y-1][x] = \"N\"\n",
    "            new_coord.append((y-1, x))\n",
    "\n",
    "        print(\"new_coord\", new_coord)\n",
    "        for m in matrix:\n",
    "            print(m)\n",
    "        print(\"-\"*18)\n",
    "\n",
    "    print(first)\n",
    "    print(second)\n",
    "\n",
    "    return False"
   ]
  },
  {
   "cell_type": "code",
   "execution_count": 115,
   "metadata": {},
   "outputs": [
    {
     "output_type": "stream",
     "name": "stdout",
     "text": [
      "0 0\n(3, 2)\nN 0\nnew_coord [(2, 2)]\n[0, 0, 0, 0, 0, 0]\n[0, 2, 2, 2, 3, 2]\n[0, 2, 'N', 0, 0, 2]\n[0, 2, 'x', 2, 0, 2]\n[0, 2, 2, 2, 0, 2]\n[0, 0, 0, 0, 0, 2]\n[2, 2, 2, 2, 2, 2]\n------------------\n(2, 2)\nE 0\nnew_coord [(2, 3)]\n[0, 0, 0, 0, 0, 0]\n[0, 2, 2, 2, 3, 2]\n[0, 2, 'x', 'E', 0, 2]\n[0, 2, 'x', 2, 0, 2]\n[0, 2, 2, 2, 0, 2]\n[0, 0, 0, 0, 0, 2]\n[2, 2, 2, 2, 2, 2]\n------------------\n(2, 3)\nE 0\nnew_coord [(2, 4)]\n[0, 0, 0, 0, 0, 0]\n[0, 2, 2, 2, 3, 2]\n[0, 2, 'x', 'x', 'E', 2]\n[0, 2, 'x', 2, 0, 2]\n[0, 2, 2, 2, 0, 2]\n[0, 0, 0, 0, 0, 2]\n[2, 2, 2, 2, 2, 2]\n------------------\n(2, 4)\nS 0\nnew_coord [(3, 4)]\n[0, 0, 0, 0, 0, 0]\n[0, 2, 2, 2, 3, 2]\n[0, 2, 'x', 'x', 'x', 2]\n[0, 2, 'x', 2, 'S', 2]\n[0, 2, 2, 2, 0, 2]\n[0, 0, 0, 0, 0, 2]\n[2, 2, 2, 2, 2, 2]\n------------------\n(3, 4)\nS 0\nnew_coord [(4, 4)]\n[0, 0, 0, 0, 0, 0]\n[0, 2, 2, 2, 3, 2]\n[0, 2, 'x', 'x', 'x', 2]\n[0, 2, 'x', 2, 'x', 2]\n[0, 2, 2, 2, 'S', 2]\n[0, 0, 0, 0, 0, 2]\n[2, 2, 2, 2, 2, 2]\n------------------\n(4, 4)\nS 0\nnew_coord [(5, 4)]\n[0, 0, 0, 0, 0, 0]\n[0, 2, 2, 2, 3, 2]\n[0, 2, 'x', 'x', 'x', 2]\n[0, 2, 'x', 2, 'x', 2]\n[0, 2, 2, 2, 'x', 2]\n[0, 0, 0, 0, 'S', 2]\n[2, 2, 2, 2, 2, 2]\n------------------\n(5, 4)\nW 0\nnew_coord [(5, 3)]\n[0, 0, 0, 0, 0, 0]\n[0, 2, 2, 2, 3, 2]\n[0, 2, 'x', 'x', 'x', 2]\n[0, 2, 'x', 2, 'x', 2]\n[0, 2, 2, 2, 'x', 2]\n[0, 0, 0, 'W', 'x', 2]\n[2, 2, 2, 2, 2, 2]\n------------------\n(5, 3)\nW 0\nnew_coord [(5, 2)]\n[0, 0, 0, 0, 0, 0]\n[0, 2, 2, 2, 3, 2]\n[0, 2, 'x', 'x', 'x', 2]\n[0, 2, 'x', 2, 'x', 2]\n[0, 2, 2, 2, 'x', 2]\n[0, 0, 'W', 'x', 'x', 2]\n[2, 2, 2, 2, 2, 2]\n------------------\n(5, 2)\nW 0\nnew_coord [(5, 1)]\n[0, 0, 0, 0, 0, 0]\n[0, 2, 2, 2, 3, 2]\n[0, 2, 'x', 'x', 'x', 2]\n[0, 2, 'x', 2, 'x', 2]\n[0, 2, 2, 2, 'x', 2]\n[0, 'W', 'x', 'x', 'x', 2]\n[2, 2, 2, 2, 2, 2]\n------------------\n(5, 1)\nW 0\nnew_coord [(5, 0)]\n[0, 0, 0, 0, 0, 0]\n[0, 2, 2, 2, 3, 2]\n[0, 2, 'x', 'x', 'x', 2]\n[0, 2, 'x', 2, 'x', 2]\n[0, 2, 2, 2, 'x', 2]\n['W', 'x', 'x', 'x', 'x', 2]\n[2, 2, 2, 2, 2, 2]\n------------------\n(5, 0)\nN 0\nnew_coord [(4, 0)]\n[0, 0, 0, 0, 0, 0]\n[0, 2, 2, 2, 3, 2]\n[0, 2, 'x', 'x', 'x', 2]\n[0, 2, 'x', 2, 'x', 2]\n['N', 2, 2, 2, 'x', 2]\n['x', 'x', 'x', 'x', 'x', 2]\n[2, 2, 2, 2, 2, 2]\n------------------\n(4, 0)\nN 0\nnew_coord [(3, 0)]\n[0, 0, 0, 0, 0, 0]\n[0, 2, 2, 2, 3, 2]\n[0, 2, 'x', 'x', 'x', 2]\n['N', 2, 'x', 2, 'x', 2]\n['x', 2, 2, 2, 'x', 2]\n['x', 'x', 'x', 'x', 'x', 2]\n[2, 2, 2, 2, 2, 2]\n------------------\n(3, 0)\nN 0\nnew_coord [(2, 0)]\n[0, 0, 0, 0, 0, 0]\n[0, 2, 2, 2, 3, 2]\n['N', 2, 'x', 'x', 'x', 2]\n['x', 2, 'x', 2, 'x', 2]\n['x', 2, 2, 2, 'x', 2]\n['x', 'x', 'x', 'x', 'x', 2]\n[2, 2, 2, 2, 2, 2]\n------------------\n(2, 0)\nN 0\nnew_coord [(1, 0)]\n[0, 0, 0, 0, 0, 0]\n['N', 2, 2, 2, 3, 2]\n['x', 2, 'x', 'x', 'x', 2]\n['x', 2, 'x', 2, 'x', 2]\n['x', 2, 2, 2, 'x', 2]\n['x', 'x', 'x', 'x', 'x', 2]\n[2, 2, 2, 2, 2, 2]\n------------------\n(1, 0)\nN 0\nnew_coord [(0, 0)]\n['N', 0, 0, 0, 0, 0]\n['x', 2, 2, 2, 3, 2]\n['x', 2, 'x', 'x', 'x', 2]\n['x', 2, 'x', 2, 'x', 2]\n['x', 2, 2, 2, 'x', 2]\n['x', 'x', 'x', 'x', 'x', 2]\n[2, 2, 2, 2, 2, 2]\n------------------\n(0, 0)\nE 0\nnew_coord [(0, 1)]\n['x', 'E', 0, 0, 0, 0]\n['x', 2, 2, 2, 3, 2]\n['x', 2, 'x', 'x', 'x', 2]\n['x', 2, 'x', 2, 'x', 2]\n['x', 2, 2, 2, 'x', 2]\n['x', 'x', 'x', 'x', 'x', 2]\n[2, 2, 2, 2, 2, 2]\n------------------\n(0, 1)\nE 0\nnew_coord [(0, 2)]\n['x', 'x', 'E', 0, 0, 0]\n['x', 2, 2, 2, 3, 2]\n['x', 2, 'x', 'x', 'x', 2]\n['x', 2, 'x', 2, 'x', 2]\n['x', 2, 2, 2, 'x', 2]\n['x', 'x', 'x', 'x', 'x', 2]\n[2, 2, 2, 2, 2, 2]\n------------------\n(0, 2)\nE 0\nnew_coord [(0, 3)]\n['x', 'x', 'x', 'E', 0, 0]\n['x', 2, 2, 2, 3, 2]\n['x', 2, 'x', 'x', 'x', 2]\n['x', 2, 'x', 2, 'x', 2]\n['x', 2, 2, 2, 'x', 2]\n['x', 'x', 'x', 'x', 'x', 2]\n[2, 2, 2, 2, 2, 2]\n------------------\n(0, 3)\nE 0\nnew_coord [(0, 4)]\n['x', 'x', 'x', 'x', 'E', 0]\n['x', 2, 2, 2, 3, 2]\n['x', 2, 'x', 'x', 'x', 2]\n['x', 2, 'x', 2, 'x', 2]\n['x', 2, 2, 2, 'x', 2]\n['x', 'x', 'x', 'x', 'x', 2]\n[2, 2, 2, 2, 2, 2]\n------------------\n(0, 4)\nE 0\nnew_coord [(0, 5)]\n['x', 'x', 'x', 'x', 'x', 'E']\n['x', 2, 2, 2, 3, 2]\n['x', 2, 'x', 'x', 'x', 2]\n['x', 2, 'x', 2, 'x', 2]\n['x', 2, 2, 2, 'x', 2]\n['x', 'x', 'x', 'x', 'x', 2]\n[2, 2, 2, 2, 2, 2]\n------------------\n(0, 5)\n"
     ]
    },
    {
     "output_type": "execute_result",
     "data": {
      "text/plain": [
       "True"
      ]
     },
     "metadata": {},
     "execution_count": 115
    }
   ],
   "source": [
    "can_pass([\n",
    "    [0, 0, 0, 0, 0, 0],\n",
    "    [0, 2, 2, 2, 3, 2],\n",
    "    [0, 2, 0, 0, 0, 2],\n",
    "    [0, 2, 0, 2, 0, 2],\n",
    "    [0, 2, 2, 2, 0, 2],\n",
    "    [0, 0, 0, 0, 0, 2],\n",
    "    [2, 2, 2, 2, 2, 2],\n",
    "],\n",
    "    (3, 2), (0, 5))"
   ]
  },
  {
   "cell_type": "code",
   "execution_count": null,
   "metadata": {},
   "outputs": [],
   "source": []
  }
 ]
}