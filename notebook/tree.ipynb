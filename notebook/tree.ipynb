{
 "metadata": {
  "language_info": {
   "codemirror_mode": {
    "name": "ipython",
    "version": 3
   },
   "file_extension": ".py",
   "mimetype": "text/x-python",
   "name": "python",
   "nbconvert_exporter": "python",
   "pygments_lexer": "ipython3",
   "version": "3.8.5-final"
  },
  "orig_nbformat": 2,
  "kernelspec": {
   "name": "python3",
   "display_name": "Python 3.8.5 64-bit",
   "metadata": {
    "interpreter": {
     "hash": "31f2aee4e71d21fbe5cf8b01ff0e069b9275f58929596ceb00d14d90e3e16cd6"
    }
   }
  }
 },
 "nbformat": 4,
 "nbformat_minor": 2,
 "cells": [
  {
   "cell_type": "code",
   "execution_count": 243,
   "metadata": {},
   "outputs": [],
   "source": [
    "# family = [\n",
    "#     ['Logan', 'Mike'],\n",
    "#     ['Logan', 'Jack'],\n",
    "#     ['Mike', 'Logan']\n",
    "# ]\n",
    "\n",
    "# family = [\n",
    "#     ['Logan', 'Mike'],\n",
    "#     ['Logan', 'Jack'],\n",
    "#     ['Mike', 'Jack']\n",
    "# ]\n",
    "\n",
    "family = [\n",
    "    ['Logan', 'William'],\n",
    "    ['Logan', 'Jack'],\n",
    "    ['Mike', 'Alexander']\n",
    "]"
   ]
  },
  {
   "cell_type": "code",
   "execution_count": 244,
   "metadata": {},
   "outputs": [
    {
     "output_type": "execute_result",
     "data": {
      "text/plain": [
       "[['Logan', 'William'], ['Logan', 'Jack'], ['Mike', 'Alexander']]"
      ]
     },
     "metadata": {},
     "execution_count": 244
    }
   ],
   "source": [
    "family"
   ]
  },
  {
   "cell_type": "code",
   "execution_count": 268,
   "metadata": {},
   "outputs": [],
   "source": [
    "class FamilyNode:\n",
    "    def __init__(self, name):\n",
    "        self.name = name\n",
    "        self.father = None\n",
    "        self.childer = []\n",
    "\n",
    "    def add_father(self, father):\n",
    "        if father.name == self.name:\n",
    "            raise TypeError\n",
    "        elif self.father:\n",
    "            raise TypeError\n",
    "        else:\n",
    "            self.father = father\n",
    "\n",
    "    def __eq__(self, other):\n",
    "        if isinstance(other, FamilyNode):\n",
    "            return self.name == other.name\n",
    "        else:\n",
    "            return self.name == other\n",
    "\n",
    "    def __hash__(self):\n",
    "        return hash(self.name)\n",
    "\n",
    "    def __str__(self):\n",
    "        return f\"{self.name} --< {self.father.name if self.father else None}\"\n",
    "\n",
    "    def __repr__(self):\n",
    "        return f\"FamilyNode(name={self.name})\""
   ]
  },
  {
   "cell_type": "code",
   "execution_count": 256,
   "metadata": {},
   "outputs": [
    {
     "output_type": "stream",
     "name": "stdout",
     "text": [
      "Mike --< None\nMike --< Logan\n"
     ]
    }
   ],
   "source": [
    "mike = FamilyNode(\"Mike\")\n",
    "print(mike)\n",
    "logan = FamilyNode(\"Logan\")\n",
    "mike.add_father(logan)\n",
    "print(mike)"
   ]
  },
  {
   "cell_type": "code",
   "execution_count": 257,
   "metadata": {},
   "outputs": [],
   "source": [
    "mike2 = FamilyNode(\"Mike\")"
   ]
  },
  {
   "cell_type": "code",
   "execution_count": 258,
   "metadata": {},
   "outputs": [
    {
     "output_type": "execute_result",
     "data": {
      "text/plain": [
       "True"
      ]
     },
     "metadata": {},
     "execution_count": 258
    }
   ],
   "source": [
    "mike == mike2"
   ]
  },
  {
   "cell_type": "code",
   "execution_count": 269,
   "metadata": {},
   "outputs": [
    {
     "output_type": "stream",
     "name": "stdout",
     "text": [
      "rel: Logan William\n{}\nWilliam --< None\nWilliam --< Logan\n...\nrel: Logan Jack\n{'William': FamilyNode(name=William), 'Logan': FamilyNode(name=Logan)}\nJack --< None\nJack --< Logan\n...\nrel: Mike Alexander\n{'William': FamilyNode(name=William), 'Logan': FamilyNode(name=Logan), 'Jack': FamilyNode(name=Jack)}\nAlexander --< None\nAlexander --< Mike\n...\n{'William': FamilyNode(name=William), 'Logan': FamilyNode(name=Logan), 'Jack': FamilyNode(name=Jack), 'Alexander': FamilyNode(name=Alexander), 'Mike': FamilyNode(name=Mike)}\n"
     ]
    }
   ],
   "source": [
    "family_dict = dict()\n",
    "\n",
    "for father_name, son_name in family:\n",
    "    print(\"rel:\", father_name, son_name)\n",
    "    print(family_dict)\n",
    "    if son_name in family_dict:\n",
    "        node = family_dict[son_name]\n",
    "    else:\n",
    "        node = FamilyNode(son_name)\n",
    "        family_dict[son_name] = node\n",
    "    print(node)\n",
    "\n",
    "    if father_name in family_dict:\n",
    "        father_node = family_dict[father_name]\n",
    "    else:\n",
    "        father_node = FamilyNode(father_name)\n",
    "        family_dict[father_name] = father_node\n",
    "\n",
    "    if father_node.father is node:\n",
    "        print(\"False\")\n",
    "\n",
    "    try:\n",
    "        node.add_father(father_node)\n",
    "    except TypeError:\n",
    "        print(\"False\")\n",
    "    print(node)\n",
    "    print(\"...\")\n",
    "print(family_dict)"
   ]
  },
  {
   "cell_type": "code",
   "execution_count": 276,
   "metadata": {},
   "outputs": [],
   "source": [
    "def find_first_father(family_node):\n",
    "    if family_node.father is None:\n",
    "        return family_node\n",
    "    else:\n",
    "        return find_first_father(family_node.father)"
   ]
  },
  {
   "cell_type": "code",
   "execution_count": 277,
   "metadata": {},
   "outputs": [
    {
     "output_type": "stream",
     "name": "stdout",
     "text": [
      "Logan --< None\nLogan --< None\nLogan --< None\nMike --< None\nMike --< None\n"
     ]
    }
   ],
   "source": [
    "for e in family_dict.values():\n",
    "    print(find_first_father(e))"
   ]
  },
  {
   "cell_type": "code",
   "execution_count": 271,
   "metadata": {},
   "outputs": [],
   "source": [
    "from collections import namedtuple"
   ]
  },
  {
   "cell_type": "code",
   "execution_count": 6,
   "metadata": {},
   "outputs": [],
   "source": [
    "FatherNode = namedtuple(\"FatherNode\", \"father children\")"
   ]
  },
  {
   "cell_type": "code",
   "execution_count": 7,
   "metadata": {},
   "outputs": [
    {
     "output_type": "execute_result",
     "data": {
      "text/plain": [
       "__main__.FatherNode"
      ]
     },
     "metadata": {},
     "execution_count": 7
    }
   ],
   "source": [
    "FatherNode"
   ]
  },
  {
   "cell_type": "code",
   "execution_count": 94,
   "metadata": {},
   "outputs": [
    {
     "output_type": "stream",
     "name": "stdout",
     "text": [
      "(['Logan', 'Mike'], ['Logan', 'Jack'], ['Mike', 'Logan'])\nprev_c=None\n(['Logan', 'Mike'], ['Mike', 'Logan'], ['Logan', 'Jack'])\nprev_c=None\n(['Logan', 'Jack'], ['Logan', 'Mike'], ['Mike', 'Logan'])\nprev_c=None\n(['Logan', 'Jack'], ['Mike', 'Logan'], ['Logan', 'Mike'])\nprev_c=None\n(['Mike', 'Logan'], ['Logan', 'Mike'], ['Logan', 'Jack'])\nprev_c=['Mike', 'Logan', 'Mike', 'Jack']\nFalse\n(['Mike', 'Logan'], ['Logan', 'Jack'], ['Logan', 'Mike'])\nprev_c=['Mike', 'Logan', 'Jack', 'Mike']\nFalse\n"
     ]
    }
   ],
   "source": [
    "from functools import reduce\n",
    "from itertools import permutations\n",
    "\n",
    "per = permutations(family)\n",
    "for p in per:\n",
    "    print(f\"{p}\")\n",
    "    prev_c = None\n",
    "    for c in p:\n",
    "        if prev_c is None:\n",
    "            prev_c = list(c)\n",
    "        elif prev_c[1] == c[0]:\n",
    "            prev_c.append(c[1])\n",
    "        else:\n",
    "            prev_c = None\n",
    "            break\n",
    "    print(f\"{prev_c=}\")\n",
    "    if prev_c and len(set(prev_c)) != len(prev_c):\n",
    "        print(False)"
   ]
  },
  {
   "cell_type": "code",
   "execution_count": 119,
   "metadata": {},
   "outputs": [
    {
     "output_type": "stream",
     "name": "stdout",
     "text": [
      "{'Logan': ['Mike', 'Jack'], 'Mike': ['Logan']}\n"
     ]
    }
   ],
   "source": [
    "family_tree = {}\n",
    "\n",
    "for father, son in family:\n",
    "    if father in family_tree:\n",
    "        family_tree[father].append(son)\n",
    "    else:\n",
    "        family_tree[father] = [son]\n",
    "print(family_tree)"
   ]
  },
  {
   "cell_type": "code",
   "execution_count": 96,
   "metadata": {},
   "outputs": [
    {
     "output_type": "stream",
     "name": "stdout",
     "text": [
      "['Logan', 'Mike']\n['Mike', 'Logan']\n['Logan', 'Jack']\n++++++++++\n['Logan', 'Jack']\n['Mike', 'Logan']\n['Logan', 'Mike']\n++++++++++\n['Mike', 'Logan']\n['Logan', 'Jack']\n['Logan', 'Mike']\n++++++++++\n"
     ]
    }
   ],
   "source": [
    "family_lines = []\n",
    "\n",
    "for e in family:\n",
    "    family_copy = family.copy()\n",
    "    print(e)\n",
    "    family_copy.remove(e)\n",
    "    while family_copy:\n",
    "        rel = family_copy.pop()\n",
    "        print(rel)\n",
    "    print(10*\"+\")"
   ]
  },
  {
   "cell_type": "code",
   "execution_count": 13,
   "metadata": {},
   "outputs": [
    {
     "output_type": "execute_result",
     "data": {
      "text/plain": [
       "{'Logan': ['Mike', 'Jack'], 'Mike': ['Logan']}"
      ]
     },
     "metadata": {},
     "execution_count": 13
    }
   ],
   "source": [
    "family_tree"
   ]
  },
  {
   "cell_type": "code",
   "execution_count": 15,
   "metadata": {},
   "outputs": [
    {
     "output_type": "stream",
     "name": "stdout",
     "text": [
      "('Mike', ['Logan'])\n('Mike', ['Logan'])\n{'Mike', 'Logan'}\n"
     ]
    }
   ],
   "source": [
    "fathers_stack = set()\n",
    "\n",
    "for father, sons in family_tree.items():\n",
    "    fathers_stack.add(father)\n",
    "    print(e)\n",
    "print(fathers_stack)"
   ]
  }
 ]
}