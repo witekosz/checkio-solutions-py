{
 "metadata": {
  "language_info": {
   "codemirror_mode": {
    "name": "ipython",
    "version": 3
   },
   "file_extension": ".py",
   "mimetype": "text/x-python",
   "name": "python",
   "nbconvert_exporter": "python",
   "pygments_lexer": "ipython3",
   "version": "3.6.9-final"
  },
  "orig_nbformat": 2,
  "kernelspec": {
   "name": "python3",
   "display_name": "Python 3.6.9 64-bit",
   "metadata": {
    "interpreter": {
     "hash": "31f2aee4e71d21fbe5cf8b01ff0e069b9275f58929596ceb00d14d90e3e16cd6"
    }
   }
  }
 },
 "nbformat": 4,
 "nbformat_minor": 2,
 "cells": [
  {
   "cell_type": "code",
   "execution_count": 21,
   "metadata": {},
   "outputs": [],
   "source": [
    "class FamilyNode:\n",
    "    def __init__(self, name: str):\n",
    "        self.name = name\n",
    "        self.father = None\n",
    "\n",
    "    def add_father(self, father):\n",
    "        if father.name == self.name:\n",
    "            raise TypeError(\"FamilyNode can not be father itself\")\n",
    "        elif self.father:\n",
    "            raise TypeError(\"FamilyNode can not have multiple fathers\")\n",
    "        else:\n",
    "            self.father = father\n",
    "\n",
    "    def find_first_ancestor(self, family_node):\n",
    "        if family_node.father is None:\n",
    "            return family_node\n",
    "        else:\n",
    "            return self.find_first_ancestor(family_node.father)\n",
    "\n",
    "    def __eq__(self, other):\n",
    "        if isinstance(other, FamilyNode):\n",
    "            return self.name == other.name\n",
    "        else:\n",
    "            return self.name == other\n",
    "\n",
    "    def __hash__(self):\n",
    "        return hash(self.name)\n",
    "\n",
    "    def __str__(self):\n",
    "        return f\"{self.name} --< {self.father.name if self.father else None}\"\n",
    "\n",
    "    def __repr__(self):\n",
    "        return f\"FamilyNode(name={self.name})\""
   ]
  },
  {
   "cell_type": "code",
   "execution_count": 22,
   "metadata": {},
   "outputs": [
    {
     "output_type": "stream",
     "name": "stdout",
     "text": [
      "Mike --< None\nMike --< Logan\n"
     ]
    }
   ],
   "source": [
    "mike = FamilyNode(\"Mike\")\n",
    "print(mike)\n",
    "logan = FamilyNode(\"Logan\")\n",
    "mike.add_father(logan)\n",
    "print(mike)"
   ]
  },
  {
   "cell_type": "code",
   "execution_count": 23,
   "metadata": {},
   "outputs": [],
   "source": [
    "mike2 = FamilyNode(\"Mike\")"
   ]
  },
  {
   "cell_type": "code",
   "execution_count": 24,
   "metadata": {},
   "outputs": [
    {
     "output_type": "execute_result",
     "data": {
      "text/plain": [
       "True"
      ]
     },
     "metadata": {},
     "execution_count": 24
    }
   ],
   "source": [
    "mike == mike2"
   ]
  },
  {
   "cell_type": "code",
   "execution_count": 25,
   "metadata": {},
   "outputs": [],
   "source": [
    "def family_valid(family: list) -> bool:\n",
    "    family_dict = dict()\n",
    "\n",
    "    for father_name, son_name in family:\n",
    "        if son_name in family_dict:\n",
    "            node = family_dict[son_name]\n",
    "        else:\n",
    "            node = FamilyNode(son_name)\n",
    "            family_dict[son_name] = node\n",
    "\n",
    "        if father_name in family_dict:\n",
    "            father_node = family_dict[father_name]\n",
    "        else:\n",
    "            father_node = FamilyNode(father_name)\n",
    "            family_dict[father_name] = father_node\n",
    "\n",
    "        if father_node.father is node:\n",
    "            return False\n",
    "\n",
    "        try:\n",
    "            node.add_father(father_node)\n",
    "        except TypeError:\n",
    "            return False\n",
    "\n",
    "    if len(set(e.find_first_ancestor(e) for e in family_dict.values())) > 1:\n",
    "        return False\n",
    "\n",
    "    return True"
   ]
  },
  {
   "cell_type": "code",
   "execution_count": 26,
   "metadata": {},
   "outputs": [],
   "source": [
    "family = [\n",
    "    ['Logan', 'Mike'],\n",
    "    ['Logan', 'Jack'],\n",
    "    ['Mike', 'Alexander']\n",
    "]"
   ]
  },
  {
   "cell_type": "code",
   "execution_count": 27,
   "metadata": {},
   "outputs": [
    {
     "output_type": "execute_result",
     "data": {
      "text/plain": [
       "True"
      ]
     },
     "metadata": {},
     "execution_count": 27
    }
   ],
   "source": [
    "family_valid(family)"
   ]
  },
  {
   "cell_type": "code",
   "execution_count": 28,
   "metadata": {},
   "outputs": [],
   "source": [
    "family = [\n",
    "    ['Logan', 'Mike'],\n",
    "    ['Logan', 'Jack'],\n",
    "    ['Mike', 'Logan']\n",
    "]"
   ]
  },
  {
   "cell_type": "code",
   "execution_count": 29,
   "metadata": {},
   "outputs": [
    {
     "output_type": "execute_result",
     "data": {
      "text/plain": [
       "False"
      ]
     },
     "metadata": {},
     "execution_count": 29
    }
   ],
   "source": [
    "family_valid(family)"
   ]
  },
  {
   "cell_type": "code",
   "execution_count": 30,
   "metadata": {},
   "outputs": [],
   "source": [
    "\n",
    "family = [\n",
    "    ['Logan', 'Mike'],\n",
    "    ['Logan', 'Jack'],\n",
    "    ['Mike', 'Jack']\n",
    "]"
   ]
  },
  {
   "cell_type": "code",
   "execution_count": 31,
   "metadata": {},
   "outputs": [
    {
     "output_type": "execute_result",
     "data": {
      "text/plain": [
       "False"
      ]
     },
     "metadata": {},
     "execution_count": 31
    }
   ],
   "source": [
    "family_valid(family)"
   ]
  },
  {
   "cell_type": "code",
   "execution_count": 32,
   "metadata": {},
   "outputs": [],
   "source": [
    "family = [\n",
    "    ['Logan', 'William'],\n",
    "    ['Logan', 'Jack'],\n",
    "    ['Mike', 'Alexander']\n",
    "]"
   ]
  },
  {
   "cell_type": "code",
   "execution_count": 33,
   "metadata": {},
   "outputs": [
    {
     "output_type": "execute_result",
     "data": {
      "text/plain": [
       "False"
      ]
     },
     "metadata": {},
     "execution_count": 33
    }
   ],
   "source": [
    "family_valid(family)"
   ]
  },
  {
   "cell_type": "code",
   "execution_count": null,
   "metadata": {},
   "outputs": [],
   "source": []
  }
 ]
}