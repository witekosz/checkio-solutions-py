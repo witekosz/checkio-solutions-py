{
 "metadata": {
  "language_info": {
   "codemirror_mode": {
    "name": "ipython",
    "version": 3
   },
   "file_extension": ".py",
   "mimetype": "text/x-python",
   "name": "python",
   "nbconvert_exporter": "python",
   "pygments_lexer": "ipython3",
   "version": "3.9.1-final"
  },
  "orig_nbformat": 2,
  "kernelspec": {
   "name": "python3",
   "display_name": "Python 3",
   "language": "python"
  }
 },
 "nbformat": 4,
 "nbformat_minor": 2,
 "cells": [
  {
   "cell_type": "code",
   "execution_count": 1,
   "metadata": {},
   "outputs": [],
   "source": [
    "raw_graph = [\n",
    "    ['A', 'C', 40],\n",
    "    ['A', 'B', 20],\n",
    "    ['A', 'D', 20],\n",
    "    ['B', 'C', 50],\n",
    "    ['D', 'C', 70]\n",
    "]\n",
    "start = \"D\"\n",
    "stop = \"C\""
   ]
  },
  {
   "cell_type": "code",
   "execution_count": 2,
   "metadata": {},
   "outputs": [
    {
     "output_type": "execute_result",
     "data": {
      "text/plain": [
       "[['A', 'C', 40],\n",
       " ['A', 'B', 20],\n",
       " ['A', 'D', 20],\n",
       " ['B', 'C', 50],\n",
       " ['D', 'C', 70]]"
      ]
     },
     "metadata": {},
     "execution_count": 2
    }
   ],
   "source": [
    "raw_graph"
   ]
  },
  {
   "cell_type": "code",
   "execution_count": null,
   "metadata": {},
   "outputs": [],
   "source": [
    "dist = {}"
   ]
  },
  {
   "cell_type": "code",
   "execution_count": null,
   "metadata": {},
   "outputs": [],
   "source": [
    "# vertex\n",
    "V = []\n",
    "# edges\n",
    "E = []"
   ]
  }
 ]
}