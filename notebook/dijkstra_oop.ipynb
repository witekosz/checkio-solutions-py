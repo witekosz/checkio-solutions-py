{
 "metadata": {
  "language_info": {
   "codemirror_mode": {
    "name": "ipython",
    "version": 3
   },
   "file_extension": ".py",
   "mimetype": "text/x-python",
   "name": "python",
   "nbconvert_exporter": "python",
   "pygments_lexer": "ipython3",
   "version": "3.9.1-final"
  },
  "orig_nbformat": 2,
  "kernelspec": {
   "name": "python3",
   "display_name": "Python 3",
   "language": "python"
  }
 },
 "nbformat": 4,
 "nbformat_minor": 2,
 "cells": [
  {
   "cell_type": "code",
   "execution_count": 67,
   "metadata": {},
   "outputs": [],
   "source": [
    "from collections import defaultdict"
   ]
  },
  {
   "cell_type": "code",
   "execution_count": 68,
   "metadata": {},
   "outputs": [
    {
     "output_type": "error",
     "ename": "SyntaxError",
     "evalue": "closing parenthesis ']' does not match opening parenthesis '(' (<ipython-input-68-195d0facc678>, line 13)",
     "traceback": [
      "\u001b[0;36m  File \u001b[0;32m\"<ipython-input-68-195d0facc678>\"\u001b[0;36m, line \u001b[0;32m13\u001b[0m\n\u001b[0;31m    self.distances[frozenset((from_node, to_node)] = distance\u001b[0m\n\u001b[0m                                                 ^\u001b[0m\n\u001b[0;31mSyntaxError\u001b[0m\u001b[0;31m:\u001b[0m closing parenthesis ']' does not match opening parenthesis '('\n"
     ]
    }
   ],
   "source": [
    "class Graph:\n",
    "    def __init__(self):\n",
    "        self.nodes = set()\n",
    "        self.edges = defaultdict(list)\n",
    "        self.distances = {}\n",
    "\n",
    "    def add_node(self, value: int):\n",
    "        self.nodes.add(value)\n",
    "\n",
    "    def add_edge(self, from_node: str, to_node: str, distance: int):\n",
    "        self.edges[from_node].append(to_node)\n",
    "        self.edges[to_node].append(from_node)\n",
    "        self.distances[frozenset((from_node, to_node)] = distance\n",
    "\n",
    "    def update_all(self, relations: list):\n",
    "        for from_node, to_node, distance in relations:\n",
    "            self.add_node(from_node)\n",
    "            self.add_node(to_node)\n",
    "            self.add_edge(from_node, to_node, distance)"
   ]
  },
  {
   "cell_type": "code",
   "execution_count": 100,
   "metadata": {},
   "outputs": [],
   "source": [
    "graph = Graph()"
   ]
  },
  {
   "cell_type": "code",
   "execution_count": 101,
   "metadata": {},
   "outputs": [],
   "source": [
    "raw_graph = [\n",
    "    ['A', 'C', 40],\n",
    "    ['A', 'B', 20],\n",
    "    ['A', 'D', 20],\n",
    "    ['B', 'C', 50],\n",
    "    ['D', 'C', 70]\n",
    "]"
   ]
  },
  {
   "cell_type": "code",
   "execution_count": 102,
   "metadata": {},
   "outputs": [],
   "source": [
    "graph.update_all(raw_graph)"
   ]
  },
  {
   "cell_type": "code",
   "execution_count": 103,
   "metadata": {},
   "outputs": [
    {
     "output_type": "stream",
     "name": "stdout",
     "text": [
      "graph.nodes={'A', 'D', 'C', 'B'}\ngraph.edges=defaultdict(<class 'list'>, {'A': ['C', 'B', 'D'], 'C': ['A', 'B', 'D'], 'B': ['A', 'C'], 'D': ['A', 'C']})\ngraph.distances={frozenset({'A', 'C'}): 40, frozenset({'A', 'B'}): 20, frozenset({'A', 'D'}): 20, frozenset({'C', 'B'}): 50, frozenset({'D', 'C'}): 70}\n"
     ]
    }
   ],
   "source": [
    "print(f\"{graph.nodes=}\")\n",
    "print(f\"{graph.edges=}\")\n",
    "print(f\"{graph.distances=}\")"
   ]
  },
  {
   "cell_type": "code",
   "execution_count": 88,
   "metadata": {},
   "outputs": [],
   "source": [
    "def dijsktra(graph: Graph, initial: str):\n",
    "  visited = {initial: 0}\n",
    "  path = {}\n",
    "\n",
    "  nodes = set(graph.nodes)\n",
    "\n",
    "  while nodes:\n",
    "    min_node = None\n",
    "    for node in nodes:\n",
    "      if node in visited:\n",
    "        if min_node is None:\n",
    "          min_node = node\n",
    "        elif visited[node] < visited[min_node]:\n",
    "          min_node = node\n",
    "\n",
    "    if min_node is None:\n",
    "      break\n",
    "\n",
    "    nodes.remove(min_node)\n",
    "    current_weight = visited[min_node]\n",
    "\n",
    "    for edge in graph.edges[min_node]:\n",
    "      weight = current_weight + graph.distances[frozenset((min_node, edge))]\n",
    "      if edge not in visited or weight < visited[edge]:\n",
    "          visited[edge] = weight\n",
    "          path[edge] = min_node\n",
    "\n",
    "  return visited, path"
   ]
  },
  {
   "cell_type": "code",
   "execution_count": 89,
   "metadata": {},
   "outputs": [],
   "source": [
    "def dijsktra(graph: Graph, initial: str):\n",
    "    visited = {initial: 0}\n",
    "\n",
    "    nodes = set(graph.nodes)\n",
    "\n",
    "    while nodes:\n",
    "        min_node = None\n",
    "        for node in nodes:\n",
    "            if node in visited:\n",
    "                if min_node is None:\n",
    "                    min_node = node\n",
    "                elif visited[node] < visited[min_node]:\n",
    "                    min_node = node\n",
    "\n",
    "        if min_node is None:\n",
    "            break\n",
    "\n",
    "        nodes.remove(min_node)\n",
    "        current_weight = visited[min_node]\n",
    "\n",
    "        for edge in graph.edges[min_node]:\n",
    "            weight = current_weight + graph.distances[frozenset((min_node, edge))]\n",
    "            if edge not in visited or weight < visited[edge]:\n",
    "                visited[edge] = weight\n",
    "\n",
    "    return visited"
   ]
  },
  {
   "cell_type": "code",
   "execution_count": 90,
   "metadata": {},
   "outputs": [
    {
     "output_type": "execute_result",
     "data": {
      "text/plain": [
       "{'D': 0}"
      ]
     },
     "metadata": {},
     "execution_count": 90
    }
   ],
   "source": [
    "dijsktra(graph, \"D\")"
   ]
  },
  {
   "cell_type": "code",
   "execution_count": 111,
   "metadata": {},
   "outputs": [],
   "source": [
    "def dijsktra(graph: Graph, initial: str):\n",
    "    nodes = graph.nodes.copy()\n",
    "\n",
    "    visited = {k: float(\"inf\") for k in graph.nodes}\n",
    "\n",
    "    nodes.remove(initial)\n",
    "    visited[initial] = 0\n",
    "\n",
    "    print(visited)\n",
    "\n",
    "    while nodes:\n",
    "        min_node = None\n",
    "        for node in nodes:\n",
    "            if node in visited:\n",
    "                if min_node is None:\n",
    "                    min_node = node\n",
    "                elif visited[node] < visited[min_node]:\n",
    "                    min_node = node\n",
    "\n",
    "        if min_node is None:\n",
    "            break\n",
    "\n",
    "        nodes.remove(min_node)\n",
    "        current_weight = visited[min_node]\n",
    "\n",
    "        for edge in graph.edges[min_node]:\n",
    "            weight = current_weight + graph.distances[frozenset((min_node, edge))]\n",
    "            if edge not in visited or weight < visited[edge]:\n",
    "                visited[edge] = weight\n",
    "\n",
    "    return visited"
   ]
  },
  {
   "cell_type": "code",
   "execution_count": 112,
   "metadata": {},
   "outputs": [
    {
     "output_type": "stream",
     "name": "stdout",
     "text": [
      "{'A': inf, 'D': 0, 'C': inf, 'B': inf}\n"
     ]
    },
    {
     "output_type": "execute_result",
     "data": {
      "text/plain": [
       "{'A': inf, 'D': 0, 'C': inf, 'B': inf}"
      ]
     },
     "metadata": {},
     "execution_count": 112
    }
   ],
   "source": [
    "dijsktra(graph, \"D\")"
   ]
  },
  {
   "cell_type": "code",
   "execution_count": null,
   "metadata": {},
   "outputs": [],
   "source": []
  }
 ]
}